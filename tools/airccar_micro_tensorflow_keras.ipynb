{
  "nbformat": 4,
  "nbformat_minor": 0,
  "metadata": {
    "colab": {
      "name": "airccar-micro-tensorflow-keras.ipynb",
      "provenance": [],
      "collapsed_sections": [],
      "toc_visible": true
    },
    "kernelspec": {
      "name": "python3",
      "display_name": "Python 3"
    }
  },
  "cells": [
    {
      "cell_type": "markdown",
      "metadata": {
        "id": "0nJYhe1Er5dC",
        "colab_type": "text"
      },
      "source": [
        "# 距離センサ3つのみでAI RC CARを実現できるか実験してみる。\n",
        "\n",
        "## このノートブックの概要\n",
        "ロボット前方に3つの距離センサを搭載し、AI RC CARと同様に、NNに BCできるかを実験する。\n",
        "\n",
        "## 事前準備\n",
        "\n",
        "airc-microリポジトリを利用して、実機にて学習用データを収集する。収集するデータは```左センサ値, 中央センサ値, 右センサ値, 舵角, スロットル値```の形のcsvフォーマットとなる。\n"
      ]
    },
    {
      "cell_type": "markdown",
      "metadata": {
        "id": "NW06zNf-FGcs",
        "colab_type": "text"
      },
      "source": [
        "## \b学習データの準備\n",
        "\n",
        "学習データはagent.recordにリストとして溜まっている。以下の並びのデータが収集されている。\n",
        "\n",
        "\n",
        "```[中央センサの値,右センサの値,左センサの値,舵角,速度]```\n",
        "\n",
        "以下ではPytorchで学習させるためにデータの整形と変換を行う。正規化とかしてないけど多分動く。"
      ]
    },
    {
      "cell_type": "code",
      "metadata": {
        "id": "tjWOuLjblILs",
        "colab_type": "code",
        "colab": {}
      },
      "source": [
        "import tensorflow as tf\n",
        "import numpy as np\n",
        "from tensorflow import keras\n",
        "from tensorflow.keras import layers\n",
        "\n",
        "# Load dataset\n",
        "\n",
        "uploaded_filename = 'test.csv'\n",
        "skipping = 50\n",
        "x = np.loadtxt(uploaded_filename, delimiter=\",\", skiprows=skipping)\n",
        "\n",
        "\n",
        "# xを2個の配列に水平分割\n",
        "train_data, train_labels = np.hsplit(x, [3])\n",
        "train_labels = np.squeeze(np.hsplit(train_labels, 2)[0])\n",
        "train_labels = train_labels+1\n",
        "\n",
        "max_value = train_data.max()\n",
        "min_value = train_data.min()\n",
        "train_data = (train_data - min_value) / (max_value-min_value)\n",
        "\n",
        "\n",
        "print(train_data)\n",
        "print(train_labels)\n"
      ],
      "execution_count": null,
      "outputs": []
    },
    {
      "cell_type": "markdown",
      "metadata": {
        "id": "4RvX55jkFoe_",
        "colab_type": "text"
      },
      "source": [
        "## NNのモデル定義\n",
        "\n",
        "NNのネットワークを構築する。入力3,出力2の全結合3層のニューラルネットワーク、口が裂けても深層学習とか言ってはいけない。入力3はセンサの値をそのまま突っ込む。出力２は速度と舵角が出力される。中間層は16あるけど、多分、さらに半分に落としても問題ない。"
      ]
    },
    {
      "cell_type": "code",
      "metadata": {
        "id": "ZkpRbuG6kNf3",
        "colab_type": "code",
        "colab": {}
      },
      "source": [
        "import tensorflow as tf\n",
        "\n",
        "from tensorflow import keras\n",
        "from tensorflow.keras import layers\n",
        "\n",
        "model = keras.Sequential([\n",
        "    layers.Dense(8, activation='relu', input_shape=(3,)),\n",
        "    layers.Dense(8, activation='relu'),\n",
        "    layers.Dense(3, activation=\"softmax\"),\n",
        "  ])\n",
        "\n",
        "optimizer = keras.optimizers.SGD(lr=0.01, decay=1e-6, momentum=0.9, nesterov=True)\n",
        "# model.compile(loss='mse',\n",
        "#               optimizer = optimizer,\n",
        "#               metrics = ['mae'])\n",
        "model.compile(optimizer='adam', \n",
        "              loss='sparse_categorical_crossentropy',\n",
        "              metrics=['accuracy'])\n",
        "model.summary()"
      ],
      "execution_count": null,
      "outputs": []
    },
    {
      "cell_type": "markdown",
      "metadata": {
        "id": "e3sBV5fzGFoN",
        "colab_type": "text"
      },
      "source": [
        "## 学習ループ\n",
        "\n",
        "Tensorflowの学習ループ\n"
      ]
    },
    {
      "cell_type": "code",
      "metadata": {
        "id": "c-6fer1Ro1ho",
        "colab_type": "code",
        "colab": {}
      },
      "source": [
        "EPOCHS = 100\n",
        "\n",
        "history = model.fit(\n",
        "  train_data, train_labels,\n",
        "  epochs=EPOCHS, validation_split = 0.2, verbose=1)\n",
        "print(history)"
      ],
      "execution_count": null,
      "outputs": []
    },
    {
      "cell_type": "markdown",
      "metadata": {
        "id": "lFlfw3eUYBwu",
        "colab_type": "text"
      },
      "source": [
        "## TensorFlow lite for microcontrollerへモデル変換\n",
        "\n"
      ]
    },
    {
      "cell_type": "code",
      "metadata": {
        "id": "EOzSTGS1WAnT",
        "colab_type": "code",
        "colab": {}
      },
      "source": [
        "# Convert to TFLite\n",
        "converter = tf.lite.TFLiteConverter.from_keras_model(model)\n",
        "converter.optimizations = [tf.lite.Optimize.DEFAULT]\n",
        "tflite_model = converter.convert() #量子化はせずFP32のまま処理していことに注意!\n",
        "\n",
        "open(\"converted_model.tflite\", \"wb\").write(tflite_model)\n",
        "\n",
        "\n",
        "!apt-get install xxd\n",
        "!xxd -i converted_model.tflite > airc_model.cpp"
      ],
      "execution_count": null,
      "outputs": []
    },
    {
      "cell_type": "markdown",
      "metadata": {
        "id": "bcK2csDTZ021",
        "colab_type": "text"
      },
      "source": [
        "## Download FlatBuffer C files.\n",
        "\n",
        "TensorFlow lite for microcontroller向けに保存したモデルファイルをダウンロードする。ダウンロードされたairc_model.cppはそのままairc-micro/model/model.cppへ上書きする。また。min_val, max_valをmodel.hの同名変数定義へそれぞれ転記する。"
      ]
    },
    {
      "cell_type": "code",
      "metadata": {
        "id": "vmbwyTPoYU8A",
        "colab_type": "code",
        "colab": {}
      },
      "source": [
        "from google.colab import files\n",
        "files.download('airc_model.cpp')\n",
        "print(\"min_val={}, max_val={}\".format(min_value,max_value))"
      ],
      "execution_count": null,
      "outputs": []
    }
  ]
}